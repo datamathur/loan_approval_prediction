{
 "cells": [
  {
   "cell_type": "markdown",
   "metadata": {},
   "source": [
    "# ML Models"
   ]
  },
  {
   "cell_type": "code",
   "execution_count": 1,
   "metadata": {},
   "outputs": [],
   "source": [
    "import pandas as pd # type:ignore\n",
    "from sklearn.model_selection import train_test_split, GridSearchCV # type:ignore\n",
    "from sklearn.linear_model import LogisticRegression, RidgeClassifier # type:ignore\n",
    "from sklearn.ensemble import AdaBoostClassifier, GradientBoostingClassifier, HistGradientBoostingClassifier, RandomForestClassifier # type:ignore\n",
    "from sklearn.gaussian_process import GaussianProcessClassifier # type:ignore\n",
    "from sklearn.neighbors import KNeighborsClassifier, RadiusNeighborsClassifier # type:ignore\n",
    "from sklearn.svm import SVC # type:ignore\n",
    "from sklearn.tree import DecisionTreeClassifier # type:ignore\n",
    "from xgboost import XGBClassifier, XGBRFClassifier # type:ignore\n",
    "from sklearn.metrics import accuracy_score, precision_recall_fscore_support, roc_auc_score # type:ignore\n",
    "from sklearn.preprocessing import OneHotEncoder, StandardScaler # type:ignore"
   ]
  },
  {
   "cell_type": "markdown",
   "metadata": {},
   "source": [
    "## Data Processing"
   ]
  },
  {
   "cell_type": "code",
   "execution_count": 2,
   "metadata": {},
   "outputs": [],
   "source": [
    "data = pd.read_csv(\"./data/train.csv\")\n",
    "train_data, val_data = train_test_split(data, test_size=0.2)\n",
    "test_data = pd.read_csv(\"./data/test.csv\")"
   ]
  },
  {
   "cell_type": "code",
   "execution_count": 3,
   "metadata": {},
   "outputs": [],
   "source": [
    "# TRANSFORMING FEATURE VARIABLES\n",
    "data_id = data[\"id\"]\n",
    "test_data_id = test_data[\"id\"]\n",
    "\n",
    "# NUMERICAL DATA\n",
    "numerical_columns = [\"person_age\", \"person_income\", \"person_emp_length\", \"loan_amnt\", \"loan_int_rate\", \"cb_person_cred_hist_length\"]\n",
    "sc = StandardScaler()\n",
    "data_num = data[numerical_columns]\n",
    "data_num_np = sc.fit_transform(data_num)\n",
    "data_num = pd.DataFrame(data_num_np, index=data_num.index, columns=data_num.columns)\n",
    "\n",
    "test_data_num = test_data[numerical_columns]\n",
    "test_data_num_np = sc.transform(test_data_num)\n",
    "test_data_num = pd.DataFrame(test_data_num_np, index=test_data_num.index, columns=test_data_num.columns)\n",
    "\n",
    "# # AGE\n",
    "# sc_age = StandardScaler()\n",
    "# data[\"person_age\"] = sc_age.fit_transform(data[\"person_age\"])\n",
    "# test_data[\"person_age\"] = sc_age.transform(test_data[\"person_age\"])\n",
    "\n",
    "# # INCOME\n",
    "# sc_income = StandardScaler()\n",
    "# data[\"person_income\"] = sc_income.fit_transform(data[\"person_income\"])\n",
    "# test_data[\"person_income\"] = sc_income.transform(test_data[\"person_income\"])\n",
    "\n",
    "# # EMPLOYMENT LENGTH\n",
    "# sc_emp_len = StandardScaler()\n",
    "# data[\"person_emp_length\"] = sc_emp_len.fit_transform(data[\"person_emp_length\"])\n",
    "# test_data[\"person_emp_length\"] = sc_emp_len.transform(test_data[\"person_emp_length\"])\n",
    "\n",
    "# # LOAN AMOUNT\n",
    "# sc_loan_amount = StandardScaler()\n",
    "# data[\"loan_amnt\"] = sc_loan_amount.fit_transform(data[\"loan_amnt\"])\n",
    "# test_data[\"loan_amnt\"] = sc_loan_amount.transform(test_data[\"loan_amnt\"])\n",
    "\n",
    "# # INTEREST RATE\n",
    "# sc_int_rate = StandardScaler()\n",
    "# data[\"loan_int_rate\"] = sc_int_rate.fit_transform(data[\"loan_int_rate\"])\n",
    "# test_data[\"loan_int_rate\"] = sc_int_rate.transform(test_data[\"loan_int_rate\"])\n",
    "\n",
    "# # CREDIT HISTORY LENGTH\n",
    "# sc_hist_len = StandardScaler()\n",
    "# data[\"cb_person_credit_hist_length\"] = sc_hist_len.fit_transform(data[\"cb_person_credit_hist_length\"])\n",
    "# test_data[\"cb_person_credit_hist_length\"] = sc_hist_len.transform(test_data[\"cb_person_credit_hist_length\"])\n",
    "\n",
    "# CATEGORICAL DATA\n",
    "categorical_columns = [\"person_home_ownership\", \"loan_intent\", \"loan_grade\", \"cb_person_default_on_file\"]\n",
    "one_hot_encoder = OneHotEncoder(sparse_output=False)\n",
    "\n",
    "one_hot_encoded_data = one_hot_encoder.fit_transform(data[categorical_columns])\n",
    "encoded_data = pd.DataFrame(one_hot_encoded_data, columns=one_hot_encoder.get_feature_names_out(categorical_columns))\n",
    "data = pd.concat([data_id, data_num, encoded_data], axis=1)\n",
    "# data = data.drop(categorical_columns, axis=1)\n",
    "\n",
    "one_hot_encoded_test_data = one_hot_encoder.transform(test_data[categorical_columns])\n",
    "encoded_test_data = pd.DataFrame(one_hot_encoded_test_data, columns=one_hot_encoder.get_feature_names_out(categorical_columns))\n",
    "test_data = pd.concat([test_data_id, test_data_num, encoded_test_data], axis=1)\n",
    "# test_data = test_data.drop(categorical_columns, axis=1)"
   ]
  },
  {
   "cell_type": "code",
   "execution_count": 4,
   "metadata": {},
   "outputs": [
    {
     "data": {
      "text/plain": [
       "Index(['id', 'person_age', 'person_income', 'person_emp_length', 'loan_amnt',\n",
       "       'loan_int_rate', 'cb_person_cred_hist_length',\n",
       "       'person_home_ownership_MORTGAGE', 'person_home_ownership_OTHER',\n",
       "       'person_home_ownership_OWN', 'person_home_ownership_RENT',\n",
       "       'loan_intent_DEBTCONSOLIDATION', 'loan_intent_EDUCATION',\n",
       "       'loan_intent_HOMEIMPROVEMENT', 'loan_intent_MEDICAL',\n",
       "       'loan_intent_PERSONAL', 'loan_intent_VENTURE', 'loan_grade_A',\n",
       "       'loan_grade_B', 'loan_grade_C', 'loan_grade_D', 'loan_grade_E',\n",
       "       'loan_grade_F', 'loan_grade_G', 'cb_person_default_on_file_N',\n",
       "       'cb_person_default_on_file_Y'],\n",
       "      dtype='object')"
      ]
     },
     "execution_count": 4,
     "metadata": {},
     "output_type": "execute_result"
    }
   ],
   "source": [
    "data.columns"
   ]
  },
  {
   "cell_type": "code",
   "execution_count": null,
   "metadata": {},
   "outputs": [],
   "source": []
  }
 ],
 "metadata": {
  "kernelspec": {
   "display_name": "Python 3",
   "language": "python",
   "name": "python3"
  },
  "language_info": {
   "codemirror_mode": {
    "name": "ipython",
    "version": 3
   },
   "file_extension": ".py",
   "mimetype": "text/x-python",
   "name": "python",
   "nbconvert_exporter": "python",
   "pygments_lexer": "ipython3",
   "version": "3.10.12"
  }
 },
 "nbformat": 4,
 "nbformat_minor": 2
}
