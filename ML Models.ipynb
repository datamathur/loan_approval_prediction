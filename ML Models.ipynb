{
 "cells": [
  {
   "cell_type": "markdown",
   "metadata": {},
   "source": [
    "# ML Models"
   ]
  },
  {
   "cell_type": "code",
   "execution_count": null,
   "metadata": {},
   "outputs": [],
   "source": [
    "import pandas as pd # type:ignore\n",
    "from sklearn.model_selection import train_test_split, GridSearchCV # type:ignore\n",
    "from sklearn.linear_model import LogisticRegression, RidgeClassifier # type:ignore\n",
    "from sklearn.ensemble import AdaBoostClassifier, GradientBoostingClassifier, HistGradientBoostingClassifier, RandomForestClassifier # type:ignore\n",
    "from sklearn.gaussian_process import GaussianProcessClassifier # type:ignore\n",
    "from sklearn.neighbors import KNeighborsClassifier, RadiusNeighborsClassifier # type:ignore\n",
    "from sklearn.svm import SVC # type:ignore\n",
    "from sklearn.tree import DecisionTreeClassifier # type:ignore\n",
    "from xgboost import XGBClassifier, XGBRFClassifier # type:ignore\n",
    "from sklearn.metrics import accuracy_score, precision_recall_fscore_support, roc_auc_score # type:ignore"
   ]
  },
  {
   "cell_type": "markdown",
   "metadata": {},
   "source": [
    "## Data Processing"
   ]
  },
  {
   "cell_type": "code",
   "execution_count": 5,
   "metadata": {},
   "outputs": [],
   "source": [
    "data = pd.read_csv(\"train.csv\")\n",
    "train_data, val_data = train_test_split(data, test_size=0.2)\n",
    "test_data = pd.read_csv(\"test.csv\")"
   ]
  },
  {
   "cell_type": "code",
   "execution_count": null,
   "metadata": {},
   "outputs": [],
   "source": []
  }
 ],
 "metadata": {
  "kernelspec": {
   "display_name": "Python 3",
   "language": "python",
   "name": "python3"
  },
  "language_info": {
   "codemirror_mode": {
    "name": "ipython",
    "version": 3
   },
   "file_extension": ".py",
   "mimetype": "text/x-python",
   "name": "python",
   "nbconvert_exporter": "python",
   "pygments_lexer": "ipython3",
   "version": "3.10.12"
  }
 },
 "nbformat": 4,
 "nbformat_minor": 2
}
